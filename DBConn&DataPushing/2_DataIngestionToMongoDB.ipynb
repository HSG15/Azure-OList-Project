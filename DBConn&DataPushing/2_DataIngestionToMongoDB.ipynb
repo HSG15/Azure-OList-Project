{
 "cells": [
  {
   "cell_type": "code",
   "execution_count": 1,
   "id": "1da67805",
   "metadata": {},
   "outputs": [
    {
     "name": "stdout",
     "output_type": "stream",
     "text": [
      "Collecting pymongo\n",
      "  Downloading pymongo-4.13.2-cp312-cp312-macosx_11_0_arm64.whl.metadata (22 kB)\n",
      "Collecting dnspython<3.0.0,>=1.16.0 (from pymongo)\n",
      "  Downloading dnspython-2.7.0-py3-none-any.whl.metadata (5.8 kB)\n",
      "Downloading pymongo-4.13.2-cp312-cp312-macosx_11_0_arm64.whl (911 kB)\n",
      "\u001b[2K   \u001b[90m━━━━━━━━━━━━━━━━━━━━━━━━━━━━━━━━━━━━━━━━\u001b[0m \u001b[32m911.7/911.7 kB\u001b[0m \u001b[31m11.0 MB/s\u001b[0m eta \u001b[36m0:00:00\u001b[0m\n",
      "\u001b[?25hDownloading dnspython-2.7.0-py3-none-any.whl (313 kB)\n",
      "Installing collected packages: dnspython, pymongo\n",
      "Successfully installed dnspython-2.7.0 pymongo-4.13.2\n"
     ]
    }
   ],
   "source": [
    "!pip install pymongo"
   ]
  },
  {
   "cell_type": "code",
   "execution_count": 2,
   "id": "7630e60a",
   "metadata": {},
   "outputs": [],
   "source": [
    "# importing module\n",
    "from pymongo import MongoClient\n",
    "\n",
    "hostname = \"l41g19.h.filess.io\"\n",
    "database = \"olistDatabaseNoSQL_alsoaskjoy\"\n",
    "port = \"61004\"\n",
    "username = \"olistDatabaseNoSQL_alsoaskjoy\"\n",
    "password = \"3427ce2af376e3fd824ce6e1990f9c7a73d9c07e\"\n",
    "\n",
    "uri = \"mongodb://\" + username + \":\" + password + \"@\" + hostname + \":\" + port + \"/\" + database\n",
    "\n",
    "# Connect with the portnumber and host\n",
    "client = MongoClient(uri)\n",
    "\n",
    "# Access database\n",
    "mydatabase = client[database]"
   ]
  },
  {
   "cell_type": "code",
   "execution_count": 3,
   "id": "57bdd9fd",
   "metadata": {},
   "outputs": [
    {
     "name": "stdout",
     "output_type": "stream",
     "text": [
      "✅ Data inserted successfully into MongoDB!\n"
     ]
    }
   ],
   "source": [
    "import pandas as pd\n",
    "from pymongo import MongoClient\n",
    "\n",
    "# MongoDB connection details\n",
    "hostname = \"l41g19.h.filess.io\"\n",
    "database = \"olistDatabaseNoSQL_alsoaskjoy\"\n",
    "port = \"61004\"\n",
    "username = \"olistDatabaseNoSQL_alsoaskjoy\"\n",
    "password = \"3427ce2af376e3fd824ce6e1990f9c7a73d9c07e\"\n",
    "\n",
    "# Create MongoDB URI\n",
    "uri = f\"mongodb://{username}:{password}@{hostname}:{port}/{database}\"\n",
    "\n",
    "# Connect to MongoDB\n",
    "client = MongoClient(uri)\n",
    "mydatabase = client[database]\n",
    "\n",
    "# Read CSV file\n",
    "csv_file_path = \"/Users/harishankargiri/Desktop/Data Engineering/MS Azure/datasets/product_category_name_translation.csv\"\n",
    "df = pd.read_csv(csv_file_path)\n",
    "\n",
    "# Convert DataFrame to list of dictionaries\n",
    "data_dict = df.to_dict(\"records\")\n",
    "\n",
    "# Define the collection name (e.g., product_category_translations)\n",
    "collection = mydatabase[\"product_category_translations\"]\n",
    "\n",
    "# Insert data into the collection\n",
    "if data_dict:\n",
    "    collection.insert_many(data_dict)\n",
    "    print(\"✅ Data inserted successfully into MongoDB!\")\n",
    "else:\n",
    "    print(\"⚠️ No data found in CSV to insert.\")\n",
    "# Close the MongoDB connection\n",
    "client.close()"
   ]
  }
 ],
 "metadata": {
  "kernelspec": {
   "display_name": "base",
   "language": "python",
   "name": "python3"
  },
  "language_info": {
   "codemirror_mode": {
    "name": "ipython",
    "version": 3
   },
   "file_extension": ".py",
   "mimetype": "text/x-python",
   "name": "python",
   "nbconvert_exporter": "python",
   "pygments_lexer": "ipython3",
   "version": "3.12.7"
  }
 },
 "nbformat": 4,
 "nbformat_minor": 5
}
